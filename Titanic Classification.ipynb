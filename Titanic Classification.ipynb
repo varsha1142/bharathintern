{
 "cells": [
  {
   "cell_type": "markdown",
   "id": "8b16a7bd",
   "metadata": {},
   "source": [
    "# Bharat Intern"
   ]
  },
  {
   "cell_type": "markdown",
   "id": "0c31c122",
   "metadata": {},
   "source": [
    "### Task2-TITANIC CLASSICATION"
   ]
  },
  {
   "cell_type": "markdown",
   "id": "f51c1afc",
   "metadata": {},
   "source": [
    "#### Author-Ankit Singh"
   ]
  },
  {
   "cell_type": "markdown",
   "id": "7c90cd91",
   "metadata": {},
   "source": [
    "#### Step1-Import the necessary libraries"
   ]
  },
  {
   "cell_type": "code",
   "execution_count": 2,
   "id": "8fad7aec",
   "metadata": {},
   "outputs": [],
   "source": [
    "import pandas as pd\n",
    "from sklearn.ensemble import RandomForestClassifier\n",
    "from sklearn.model_selection import train_test_split\n",
    "from sklearn.metrics import accuracy_score"
   ]
  },
  {
   "cell_type": "markdown",
   "id": "b26d330e",
   "metadata": {},
   "source": [
    "#### Step2-Load the Titanic dataset"
   ]
  },
  {
   "cell_type": "code",
   "execution_count": 3,
   "id": "44a6d10a",
   "metadata": {},
   "outputs": [],
   "source": [
    "titanic_data = pd.read_csv(\"C:\\\\Users\\\\91726\\\\Downloads\\\\INTERNSHIP\\\\Titanic.csv\")"
   ]
  },
  {
   "cell_type": "markdown",
   "id": "2cb2396d",
   "metadata": {},
   "source": [
    "### Step3-Preprocessing the data\n",
    "#### Drop irrelevant columns and handle missing values"
   ]
  },
  {
   "cell_type": "code",
   "execution_count": 4,
   "id": "f79b34c9",
   "metadata": {},
   "outputs": [],
   "source": [
    "titanic_data = titanic_data.drop(['PassengerId', 'Name', 'Ticket', 'Cabin', 'Embarked'], axis=1)\n",
    "titanic_data['Age'].fillna(titanic_data['Age'].median(), inplace=True)\n",
    "titanic_data['Fare'].fillna(titanic_data['Fare'].median(), inplace=True)\n",
    "titanic_data['Sex'] = titanic_data['Sex'].map({'female': 0, 'male': 1}).astype(int)"
   ]
  },
  {
   "cell_type": "markdown",
   "id": "0b37111c",
   "metadata": {},
   "source": [
    "### Step4- Split the data into features and target"
   ]
  },
  {
   "cell_type": "code",
   "execution_count": 5,
   "id": "0d646c66",
   "metadata": {},
   "outputs": [],
   "source": [
    "X = titanic_data.drop('Survived', axis=1)\n",
    "y = titanic_data['Survived']"
   ]
  },
  {
   "cell_type": "markdown",
   "id": "42b9a705",
   "metadata": {},
   "source": [
    "#### Step5-Split the data into training and testing sets"
   ]
  },
  {
   "cell_type": "code",
   "execution_count": 6,
   "id": "1a1bbf95",
   "metadata": {},
   "outputs": [],
   "source": [
    "X_train, X_test, y_train, y_test = train_test_split(X, y, test_size=0.2, random_state=42)"
   ]
  },
  {
   "cell_type": "markdown",
   "id": "49cb78f0",
   "metadata": {},
   "source": [
    "#### Step5-Create and train the Random Forest classifier"
   ]
  },
  {
   "cell_type": "code",
   "execution_count": 7,
   "id": "796dfab1",
   "metadata": {},
   "outputs": [
    {
     "data": {
      "text/plain": [
       "RandomForestClassifier(random_state=42)"
      ]
     },
     "execution_count": 7,
     "metadata": {},
     "output_type": "execute_result"
    }
   ],
   "source": [
    "classifier = RandomForestClassifier(n_estimators=100, random_state=42)\n",
    "classifier.fit(X_train, y_train)"
   ]
  },
  {
   "cell_type": "markdown",
   "id": "a0dba668",
   "metadata": {},
   "source": [
    "#### Step6-Make predictions on the test set"
   ]
  },
  {
   "cell_type": "code",
   "execution_count": 8,
   "id": "53b4ddc6",
   "metadata": {},
   "outputs": [],
   "source": [
    "y_pred = classifier.predict(X_test)"
   ]
  },
  {
   "cell_type": "markdown",
   "id": "abd2de80",
   "metadata": {},
   "source": [
    "#### Step7-Evaluate the model's accuracy"
   ]
  },
  {
   "cell_type": "code",
   "execution_count": 9,
   "id": "07067fb3",
   "metadata": {},
   "outputs": [
    {
     "name": "stdout",
     "output_type": "stream",
     "text": [
      "Accuracy: 1.0\n"
     ]
    }
   ],
   "source": [
    "accuracy = accuracy_score(y_test, y_pred)\n",
    "print(\"Accuracy:\", accuracy)"
   ]
  },
  {
   "cell_type": "markdown",
   "id": "99061e1d",
   "metadata": {},
   "source": [
    "#                                        THANK YOU"
   ]
  }
 ],
 "metadata": {
  "kernelspec": {
   "display_name": "Python 3 (ipykernel)",
   "language": "python",
   "name": "python3"
  },
  "language_info": {
   "codemirror_mode": {
    "name": "ipython",
    "version": 3
   },
   "file_extension": ".py",
   "mimetype": "text/x-python",
   "name": "python",
   "nbconvert_exporter": "python",
   "pygments_lexer": "ipython3",
   "version": "3.9.12"
  }
 },
 "nbformat": 4,
 "nbformat_minor": 5
}
